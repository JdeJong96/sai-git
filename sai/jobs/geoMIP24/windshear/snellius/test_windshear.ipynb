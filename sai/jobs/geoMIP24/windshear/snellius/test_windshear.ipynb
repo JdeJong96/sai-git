{
 "cells": [
  {
   "cell_type": "code",
   "execution_count": 7,
   "id": "fdc0568b-c0bf-43b5-82ba-5ec11168747b",
   "metadata": {
    "tags": []
   },
   "outputs": [],
   "source": [
    "camc = '/Users/jasperdejong/Documents/PhD/Geo/sai-git/sai/data/deg5/spinup_pd_maxcores_5deg.cam2.h0.????-??.nc'\n",
    "camg = '/Users/jasperdejong/Documents/PhD/Geo/sai-git/sai/data/deg5/mres_b.e10.B2000_CAM5.5deg.001.cam2.h0.????-??.nc'"
   ]
  },
  {
   "cell_type": "code",
   "execution_count": 31,
   "id": "2a4db9f9-1ff0-4064-b750-8ed930f3eaeb",
   "metadata": {
    "tags": []
   },
   "outputs": [
    {
     "name": "stdout",
     "output_type": "stream",
     "text": [
      "2024-07-09 12:10:58,199 - distributed.worker - ERROR - Worker stream died during communication: tcp://127.0.0.1:57174\n",
      "Traceback (most recent call last):\n",
      "  File \"/Users/jasperdejong/opt/anaconda3/envs/py311/lib/python3.11/site-packages/tornado/iostream.py\", line 861, in _read_to_buffer\n",
      "    bytes_read = self.read_from_fd(buf)\n",
      "                 ^^^^^^^^^^^^^^^^^^^^^^\n",
      "  File \"/Users/jasperdejong/opt/anaconda3/envs/py311/lib/python3.11/site-packages/tornado/iostream.py\", line 1116, in read_from_fd\n",
      "    return self.socket.recv_into(buf, len(buf))\n",
      "           ^^^^^^^^^^^^^^^^^^^^^^^^^^^^^^^^^^^^\n",
      "ConnectionResetError: [Errno 54] Connection reset by peer\n",
      "\n",
      "The above exception was the direct cause of the following exception:\n",
      "\n",
      "Traceback (most recent call last):\n",
      "  File \"/Users/jasperdejong/opt/anaconda3/envs/py311/lib/python3.11/site-packages/distributed/worker.py\", line 2035, in gather_dep\n",
      "    response = await get_data_from_worker(\n",
      "               ^^^^^^^^^^^^^^^^^^^^^^^^^^^\n",
      "  File \"/Users/jasperdejong/opt/anaconda3/envs/py311/lib/python3.11/site-packages/distributed/worker.py\", line 2871, in get_data_from_worker\n",
      "    response = await send_recv(\n",
      "               ^^^^^^^^^^^^^^^^\n",
      "  File \"/Users/jasperdejong/opt/anaconda3/envs/py311/lib/python3.11/site-packages/distributed/core.py\", line 1124, in send_recv\n",
      "    response = await comm.read(deserializers=deserializers)\n",
      "               ^^^^^^^^^^^^^^^^^^^^^^^^^^^^^^^^^^^^^^^^^^^^\n",
      "  File \"/Users/jasperdejong/opt/anaconda3/envs/py311/lib/python3.11/site-packages/distributed/comm/tcp.py\", line 241, in read\n",
      "    convert_stream_closed_error(self, e)\n",
      "  File \"/Users/jasperdejong/opt/anaconda3/envs/py311/lib/python3.11/site-packages/distributed/comm/tcp.py\", line 142, in convert_stream_closed_error\n",
      "    raise CommClosedError(f\"in {obj}: {exc.__class__.__name__}: {exc}\") from exc\n",
      "distributed.comm.core.CommClosedError: in <TCP (closed) Ephemeral Worker->Worker for gather local=tcp://127.0.0.1:57201 remote=tcp://127.0.0.1:57174>: ConnectionResetError: [Errno 54] Connection reset by peer\n",
      "2024-07-09 12:10:58,203 - distributed.nanny - WARNING - Restarting worker\n",
      "2024-07-09 12:10:58,340 - distributed.nanny - WARNING - Restarting worker\n",
      "2024-07-09 12:10:58,471 - distributed.nanny - WARNING - Restarting worker\n",
      "2024-07-09 12:10:58,662 - distributed.nanny - WARNING - Restarting worker\n",
      "2024-07-09 12:11:01,706 - distributed.nanny - WARNING - Restarting worker\n",
      "2024-07-09 12:11:01,787 - distributed.nanny - WARNING - Restarting worker\n",
      "Traceback (most recent call last):\n",
      "  File \"/Users/jasperdejong/Documents/PhD/Geo/sai-git/sai/jupyter/../jobs/windshear/snellius/windshear.py\", line 179, in <module>\n",
      "    main()\n",
      "  File \"/Users/jasperdejong/Documents/PhD/Geo/sai-git/sai/jupyter/../jobs/windshear/snellius/windshear.py\", line 172, in main\n",
      "    ds[['VWS',VARS['gw'],VARS['time_bnds'],VARS['lsm']]].to_netcdf(args.outfile)\n",
      "  File \"/Users/jasperdejong/opt/anaconda3/envs/py311/lib/python3.11/site-packages/xarray/core/dataset.py\", line 1957, in to_netcdf\n",
      "    return to_netcdf(  # type: ignore  # mypy cannot resolve the overloads:(\n",
      "           ^^^^^^^^^^^^^^^^^^^^^^^^^^^^^^^^^^^^^^^^^^^^^^^^^^^^^^^^^^^^^^^^^\n",
      "  File \"/Users/jasperdejong/opt/anaconda3/envs/py311/lib/python3.11/site-packages/xarray/backends/api.py\", line 1281, in to_netcdf\n",
      "    writes = writer.sync(compute=compute)\n",
      "             ^^^^^^^^^^^^^^^^^^^^^^^^^^^^\n",
      "  File \"/Users/jasperdejong/opt/anaconda3/envs/py311/lib/python3.11/site-packages/xarray/backends/common.py\", line 178, in sync\n",
      "    delayed_store = chunkmanager.store(\n",
      "                    ^^^^^^^^^^^^^^^^^^^\n",
      "  File \"/Users/jasperdejong/opt/anaconda3/envs/py311/lib/python3.11/site-packages/xarray/core/daskmanager.py\", line 211, in store\n",
      "    return store(\n",
      "           ^^^^^^\n",
      "  File \"/Users/jasperdejong/opt/anaconda3/envs/py311/lib/python3.11/site-packages/dask/array/core.py\", line 1237, in store\n",
      "    compute_as_if_collection(Array, store_dsk, map_keys, **kwargs)\n",
      "  File \"/Users/jasperdejong/opt/anaconda3/envs/py311/lib/python3.11/site-packages/dask/base.py\", line 337, in compute_as_if_collection\n",
      "    return schedule(dsk2, keys, **kwargs)\n",
      "           ^^^^^^^^^^^^^^^^^^^^^^^^^^^^^^\n",
      "  File \"/Users/jasperdejong/opt/anaconda3/envs/py311/lib/python3.11/site-packages/distributed/client.py\", line 3243, in get\n",
      "    results = self.gather(packed, asynchronous=asynchronous, direct=direct)\n",
      "              ^^^^^^^^^^^^^^^^^^^^^^^^^^^^^^^^^^^^^^^^^^^^^^^^^^^^^^^^^^^^^\n",
      "  File \"/Users/jasperdejong/opt/anaconda3/envs/py311/lib/python3.11/site-packages/distributed/client.py\", line 2368, in gather\n",
      "    return self.sync(\n",
      "           ^^^^^^^^^^\n",
      "  File \"/Users/jasperdejong/opt/anaconda3/envs/py311/lib/python3.11/site-packages/distributed/utils.py\", line 351, in sync\n",
      "    return sync(\n",
      "           ^^^^^\n",
      "  File \"/Users/jasperdejong/opt/anaconda3/envs/py311/lib/python3.11/site-packages/distributed/utils.py\", line 418, in sync\n",
      "    raise exc.with_traceback(tb)\n",
      "  File \"/Users/jasperdejong/opt/anaconda3/envs/py311/lib/python3.11/site-packages/distributed/utils.py\", line 391, in f\n",
      "    result = yield future\n",
      "             ^^^^^^^^^^^^\n",
      "  File \"/Users/jasperdejong/opt/anaconda3/envs/py311/lib/python3.11/site-packages/tornado/gen.py\", line 767, in run\n",
      "    value = future.result()\n",
      "            ^^^^^^^^^^^^^^^\n",
      "  File \"/Users/jasperdejong/opt/anaconda3/envs/py311/lib/python3.11/site-packages/distributed/client.py\", line 2231, in _gather\n",
      "    raise exception.with_traceback(traceback)\n",
      "distributed.scheduler.KilledWorker: Attempted to run task ('logpressure_interp1d_gu-transpose-4c33664786e40bb179ed4d61b18a0e6b', 0, 0, 0, 0) on 3 different workers, but all those workers died while running it. The last worker that attempt to run the task was tcp://127.0.0.1:57206. Inspecting worker logs is often a good next step to diagnose what went wrong. For more information see https://distributed.dask.org/en/stable/killed.html.\n"
     ]
    }
   ],
   "source": [
    "![ -f test.nc ] && rm test.nc\n",
    "!python ../jobs/windshear/snellius/windshear.py /Users/jasperdejong/Documents/PhD/Geo/sai-git/sai/data/deg5/spinup_pd_maxcores_5deg.cam2.h0.????-??.nc test.nc"
   ]
  },
  {
   "cell_type": "code",
   "execution_count": 4,
   "id": "a1581acf-0b33-4f76-8298-2eb5055bfcfe",
   "metadata": {
    "tags": []
   },
   "outputs": [],
   "source": [
    "import os\n",
    "import sys\n",
    "import time\n",
    "import argparse\n",
    "import logging\n",
    "#print(f'Python version: {sys.version}')\n",
    "#print(f'Path: {sys.path}')\n",
    "\n",
    "from numba import guvectorize\n",
    "import numpy as np\n",
    "import xarray as xr\n",
    "xr.set_options(keep_attrs=True)\n",
    "#xr.show_versions()\n",
    "\n",
    "PLEVS = (250, 850)  # pressure levels (hPa) for shear calculation\n",
    "\n",
    "# variable names (change values if needed)\n",
    "# VARS = {'U':'U','V':'V','P':'P','gw':'gw', 'time_bnds':'time_bnds','lsm':'lsm'} # pressure levels\n",
    "VARS = {'U':'U','V':'V','hyam':'hyam', 'hybm':'hybm','P0':'P0','PS':'PS',\n",
    "        'gw':'gw', 'time_bnds':'time_bnds','lsm':'LANDFRAC'} # hybrid model levels\n",
    "\n",
    "LABEL = 'upper' # ['upper','lower'], level where VSHEAR is defined\n",
    "VDIM = 'lev'  # vertical dimension (e.g. 'lev','plev','z','hybrid')\n",
    "CHUNKS = {'time':1,'ncol':'auto', VDIM:-1} # array chunk size for parallel computation\n",
    "NEWPRES = xr.DataArray(\n",
    "    data=100*np.array(sorted(PLEVS), dtype='float64'),\n",
    "    dims='plev',\n",
    "    name='p',\n",
    "    attrs={'standard_name':'air_pressure',\n",
    "           'long_name':'air pressure',\n",
    "           'units':'Pa'}\n",
    ")\n",
    "\n",
    "\n",
    "@guvectorize([\n",
    "    \"(float64[:], float64[:], float64[:], float64[:])\",\n",
    "    \"(float32[:], float32[:], float64[:], float32[:])\"\n",
    "], \" (n), (n), (m) -> (m)\", nopython=True, cache=True)\n",
    "def logpressure_interp1d_gu(f, p, pi, out):\n",
    "    \"\"\"interpolate field f(p) to pi in ln(p) coordinates\"\"\"\n",
    "    i, imax, p0, f0 = 0, len(pi), p[0], f[0]\n",
    "    while pi[i]<p0 and i < imax:\n",
    "        out[i] = np.nan      \n",
    "        i = i + 1 \n",
    "    for p1,f1 in zip(p[1:], f[1:]):\n",
    "        while pi[i] <= p1 and i < imax:\n",
    "            out[i] = (f1-f0)/np.log(p1/p0)*np.log(pi[i]/p0)+f0\n",
    "            i = i + 1\n",
    "        p0, f0 = p1, f1\n",
    "    while i < imax:\n",
    "        out[i] = np.nan\n",
    "        i = i + 1\n",
    "\n",
    "\n",
    "def xr_interpolate_pressure(ds):\n",
    "    \"\"\"wrapper for logpressure_interp1d_gu\"\"\"\n",
    "    # calculate pressure if needed and interpolate\n",
    "    if 'P' not in VARS:\n",
    "        logging.info(f\"calculating 'P' from hybrid parameters\")\n",
    "        pres = ds[VARS['hyam']] * ds[VARS['P0']] + ds[VARS['hybm']] * ds[VARS['PS']]\n",
    "    else:\n",
    "        pres = ds[VARS['P']]\n",
    "    ds = ds.assign_coords({NEWPRES.name:NEWPRES})\n",
    "    logging.info(f\"new coordinate: {ds[NEWPRES.name].coords}\")\n",
    "    logging.info(\"starting interpolation...\")\n",
    "    vdimvars = [v for v in ds.data_vars if hasattr(ds[v], VDIM)]\n",
    "    if len(vdimvars) == 1:\n",
    "        vdimvars = vdimvars[0]\n",
    "    ds[vdimvars] = xr.apply_ufunc(\n",
    "        logpressure_interp1d_gu,  ds[vdimvars], pres, NEWPRES,\n",
    "        input_core_dims=[[VDIM], [VDIM], [*NEWPRES.dims]], \n",
    "        output_core_dims=[[*NEWPRES.dims]], \n",
    "        exclude_dims=set((VDIM,)),\n",
    "        dask=\"parallelized\",\n",
    "        keep_attrs=True,\n",
    "    ).transpose(*NEWPRES.dims,...)\n",
    "    return ds\n",
    "    \n",
    "\n",
    "def check_globals(ds):\n",
    "    \"\"\"Check global variables defined in this file\n",
    "    \n",
    "    When faulty, quits program with helpful error messages\n",
    "    \"\"\"\n",
    "    fatal = False\n",
    "    if VDIM not in ds:\n",
    "        logging.error(f\"vertical dimension {VDIM} not in dataset\")\n",
    "        fatal = True\n",
    "    else:\n",
    "        logging.info(f\"vertical dimension: {VDIM}\")\n",
    "    if any(p > 1100 for p in PLEVS):\n",
    "        logging.error(f\"PLEVS {PLEVS} should be in hPa\")\n",
    "        fatal = True\n",
    "    else:\n",
    "        logging.info(f\"new pressure levels: {PLEVS} hPa\")\n",
    "    if ('P' not in VARS):\n",
    "        missing_terms = [VARS[t] for t in ['hyam','hybm','P0','PS'] if VARS[t] not in ds]\n",
    "        if any(missing_terms):\n",
    "            logging.error(f\"{missing_terms} not in dataset\")\n",
    "            fatal = True\n",
    "        else:\n",
    "            for v in ['PS','P0']:\n",
    "                var = ds[VARS[v]]\n",
    "                if not hasattr(var, 'units'):\n",
    "                    logging.warning(f\"assuming {var.name} has units 'Pa'\")\n",
    "                elif var.units in ['Pa','pa']:\n",
    "                    logging.info(f\"{var.name} units: {var.units}\")\n",
    "                else:\n",
    "                    logging.error(f\"{var.name} units: {var.units}, expected Pa\")\n",
    "                    fatal = True\n",
    "            logging.info(f\"using {[VARS[v] for v in ['hyam','hybm','P0','PS']]} to calculate pressure\")\n",
    "    else:\n",
    "        logging.info(f\"using pressure '{VARS['P']}'\")\n",
    "    if fatal:\n",
    "        logging.critical(f\"fatal errors occurred for dataset:\\n{ds}\")\n",
    "        logging.critical(f\"resolve errors first, aborting...\")\n",
    "        sys.exit(1)\n",
    "    return\n",
    "\n",
    "\n",
    "def main():\n",
    "    time0 = time.perf_counter()  # start timer\n",
    "\n",
    "    # # parse command line arguments\n",
    "    # parser = argparse.ArgumentParser()\n",
    "    # parser.add_argument('files', nargs='+', help='input file(s)')\n",
    "    # parser.add_argument('outfile', help='output file')\n",
    "    # parser.add_argument('-f', help='used by jupyter')\n",
    "    # parser.add_argument('-v', '--verbose', help='modify output verbosity', \n",
    "    #                     action='store_true')\n",
    "    # args = parser.parse_args()\n",
    "\n",
    "    # # set up logger \n",
    "    # logging.basicConfig(\n",
    "    #     level=logging.INFO if args.verbose else logging.WARNING,\n",
    "    #     format=\"%(asctime)s %(levelname)s: %(message)s\",\n",
    "    #     datefmt=\"%d-%m-%Y %H:%M:%S\"\n",
    "    # )\n",
    "    # logging.info(\n",
    "    #     f\"read path: {os.path.dirname(os.path.abspath(args.files[0]))}:\"\n",
    "    #     \"\\ninput file(s):\"\n",
    "    #     f\"\\n{os.linesep.join([os.path.basename(f) for f in args.files])}\"\n",
    "    # )\n",
    "    \n",
    "    # wind shear calculation\n",
    "    time1 = time.perf_counter()  # start timer\n",
    "    levstr = f'{max(PLEVS)}-{min(PLEVS)} hPa'\n",
    "    # logging.info(f\"opening [{args.files[0]} - {args.files[-1]}] with chunks {CHUNKS}\")\n",
    "    with xr.open_mfdataset(camc, data_vars=\"minimal\", coords=\"minimal\", \n",
    "        join=\"exact\", compat=\"override\", chunks=CHUNKS) as ds:\n",
    "        time2 = time.perf_counter()\n",
    "        # logging.info(f\"...succes! opening took {time2-time1:.2f} seconds\")\n",
    "        ds = ds[list(VARS.values())]\n",
    "        check_globals(ds)\n",
    "        hasplev = NEWPRES.dims[0] in ds.dims\n",
    "        if (not hasplev) or (hasplev and (not (ds[NEWPRES.dims[0]] == NEWPRES).all())):\n",
    "            ds = xr_interpolate_pressure(ds)\n",
    "        USHEAR = ds[VARS['U']].diff(NEWPRES.dims[0], label=LABEL).squeeze()\n",
    "        VSHEAR = ds[VARS['V']].diff(NEWPRES.dims[0], label=LABEL).squeeze()\n",
    "        ds['VWS'] = np.sqrt(USHEAR**2 + VSHEAR**2)\n",
    "        ds.VWS.attrs.update({\n",
    "            'long_name':'vertical wind shear '+levstr,\n",
    "            'standard_name':'wind_speed_shear',\n",
    "            'units':ds[VARS['U']].units,\n",
    "        })\n",
    "        ds[['VWS',VARS['gw'],VARS['time_bnds'],VARS['lsm']]].to_netcdf('test.nc')\n",
    "        time3 = time.perf_counter()\n",
    "        # logging.info(f\"processed all data in {time3-time1:.2f} seconds\")"
   ]
  },
  {
   "cell_type": "code",
   "execution_count": 4,
   "id": "3056f0c1-60fa-460c-af30-15d6edf91c32",
   "metadata": {
    "tags": []
   },
   "outputs": [
    {
     "name": "stdout",
     "output_type": "stream",
     "text": [
      "CPU times: user 5.47 s, sys: 504 ms, total: 5.97 s\n",
      "Wall time: 5.96 s\n"
     ]
    }
   ],
   "source": [
    "%%time\n",
    "main()"
   ]
  },
  {
   "cell_type": "code",
   "execution_count": 25,
   "id": "f7e324ee-0f0c-4205-bccd-b4b3d01a3754",
   "metadata": {
    "tags": []
   },
   "outputs": [],
   "source": [
    "ds = xr.open_dataset('test.nc')"
   ]
  },
  {
   "cell_type": "code",
   "execution_count": 26,
   "id": "ed240885-79fa-4d35-8fb5-e52ff044551a",
   "metadata": {
    "tags": []
   },
   "outputs": [
    {
     "data": {
      "text/plain": [
       "<matplotlib.collections.QuadMesh at 0x138b27b90>"
      ]
     },
     "execution_count": 26,
     "metadata": {},
     "output_type": "execute_result"
    },
    {
     "data": {
      "image/png": "[encoded data removed]",
      "text/plain": [
       "<Figure size 640x480 with 2 Axes>"
      ]
     },
     "metadata": {},
     "output_type": "display_data"
    }
   ],
   "source": [
    "filledVWS = ds.VWS.copy()\n",
    "filledVWS.data[ds.LANDFRAC>0] = 0\n",
    "(filledVWS).mean('time').plot()"
   ]
  },
  {
   "cell_type": "code",
   "execution_count": 27,
   "id": "5874b0a0-a261-4770-a649-338eb95240c4",
   "metadata": {
    "tags": []
   },
   "outputs": [
    {
     "data": {
      "text/plain": [
       "array([17.01473168, 16.08787384, 16.5594063 , 16.05265361, 15.34998002,\n",
       "       15.18193676, 15.15746351, 15.70697657, 15.08829798, 14.93842896,\n",
       "       15.50816053, 15.8616762 , 16.82060211, 16.44960549, 15.83352564,\n",
       "       15.69123303, 14.78173351, 14.54914266, 15.52210192, 15.21290275,\n",
       "       14.81622729, 14.86517483, 15.69912501, 16.82675398])"
      ]
     },
     "execution_count": 27,
     "metadata": {},
     "output_type": "execute_result"
    }
   ],
   "source": [
    "ds.VWS.weighted(ds.gw).mean(('lat','lon')).values"
   ]
  },
  {
   "cell_type": "code",
   "execution_count": 28,
   "id": "f715647d-9c94-4bec-b731-c26f578f910e",
   "metadata": {
    "tags": []
   },
   "outputs": [
    {
     "data": {
      "text/plain": [
       "{'Conventions': 'CF-1.0',\n",
       " 'source': 'CAM',\n",
       " 'case': 'spinup_pd_maxcores_f05_t12',\n",
       " 'title': 'UNSET',\n",
       " 'logname': 'klipdccp',\n",
       " 'host': 'tcn1633.bullx',\n",
       " 'Version': '$Name$',\n",
       " 'revision_Id': '$Id$',\n",
       " 'initial_file': '/projects/0/prace_imau/prace_2013081679/cesm1_0_4/inputdata/atm/cam/inic/fv/cami-mam3_0000-01-01_0.47x0.63_L30_c100929.nc',\n",
       " 'topography_file': '/projects/0/prace_imau/prace_2013081679/cesm1_0_4/inputdata/atm/cam/topo/USGS_gtopo30_0.47x0.63_remap_c061106.nc',\n",
       " 'history': 'python windshear.py [/Users/jasperdejong/Documents/PhD/Geo/sai-git/sai/data/deg5/spinup_pd_maxcores_5deg.cam2.h0.0194-01.nc - /Users/jasperdejong/Documents/PhD/Geo/sai-git/sai/data/deg5/spinup_pd_maxcores_5deg.cam2.h0.0297-12.nc] test.nc'}"
      ]
     },
     "execution_count": 28,
     "metadata": {},
     "output_type": "execute_result"
    }
   ],
   "source": [
    "ds.attrs"
   ]
  },
  {
   "cell_type": "code",
   "execution_count": 29,
   "id": "2b5124b0-6609-462a-861d-ded17187b02f",
   "metadata": {
    "tags": []
   },
   "outputs": [],
   "source": [
    "ds.close()"
   ]
  },
  {
   "cell_type": "code",
   "execution_count": null,
   "id": "5e437078-6539-4df6-99a0-b3e497ffbaa7",
   "metadata": {},
   "outputs": [],
   "source": []
  }
 ],
 "metadata": {
  "kernelspec": {
   "display_name": "Python 3 (ipykernel)",
   "language": "python",
   "name": "python3"
  },
  "language_info": {
   "codemirror_mode": {
    "name": "ipython",
    "version": 3
   },
   "file_extension": ".py",
   "mimetype": "text/x-python",
   "name": "python",
   "nbconvert_exporter": "python",
   "pygments_lexer": "ipython3",
   "version": "3.11.5"
  }
 },
 "nbformat": 4,
 "nbformat_minor": 5
}
