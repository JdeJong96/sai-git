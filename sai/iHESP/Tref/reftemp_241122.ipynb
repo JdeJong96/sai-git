{
 "cells": [
  {
   "cell_type": "code",
   "execution_count": 1,
   "metadata": {},
   "outputs": [],
   "source": [
    "import xarray as xr\n",
    "import matplotlib.pyplot as plt\n",
    "import os\n",
    "import glob\n",
    "import numpy as np"
   ]
  },
  {
   "cell_type": "code",
   "execution_count": 2,
   "metadata": {},
   "outputs": [
    {
     "data": {
      "text/plain": [
       "['.ipynb_checkpoints',\n",
       " 'run_snellius.sh',\n",
       " 'slurm-2709578.out',\n",
       " 'ref_temp.ipynb',\n",
       " 'slurm-2709647.out']"
      ]
     },
     "execution_count": 2,
     "metadata": {},
     "output_type": "execute_result"
    }
   ],
   "source": [
    "os.listdir('.')"
   ]
  },
  {
   "cell_type": "code",
   "execution_count": 6,
   "metadata": {},
   "outputs": [
    {
     "data": {
      "text/plain": [
       "['download',\n",
       " 'download_hrmip_lr_hist.o101628',\n",
       " 'wget-log',\n",
       " 'tas_Amon_CESM1-CAM5-SE-LR_hist-1950_r1i1p1f1_gn_195001-201412.nc']"
      ]
     },
     "execution_count": 6,
     "metadata": {},
     "output_type": "execute_result"
    }
   ],
   "source": [
    "os.listdir('/data2/imau/users/jasper/ihesp/hrmip/1deg/hist/tas/')"
   ]
  },
  {
   "cell_type": "code",
   "execution_count": 6,
   "metadata": {},
   "outputs": [
    {
     "name": "stderr",
     "output_type": "stream",
     "text": [
      "/usr/local/lib/python3.6/site-packages/xarray/conventions.py:494: SerializationWarning: variable 'tas' has multiple fill values {1e+20, 1e+20}, decoding all values to NaN.\n",
      "  use_cftime=use_cftime,\n"
     ]
    }
   ],
   "source": [
    "ds = xr.open_dataset('/data2/imau/users/jasper/ihesp/hrmip/0.25deg/cont/tas/tas_Amon_CESM1-CAM5-SE-HR_control-1950_r1i1p1f1_gn_005501-015512.nc')"
   ]
  },
  {
   "cell_type": "code",
   "execution_count": 38,
   "metadata": {},
   "outputs": [],
   "source": [
    "ds.tas.encoding['missing_value'] = ds.tas.encoding['missing_value'].astype('float32')"
   ]
  },
  {
   "cell_type": "code",
   "execution_count": 40,
   "metadata": {},
   "outputs": [
    {
     "data": {
      "text/plain": [
       "True"
      ]
     },
     "execution_count": 40,
     "metadata": {},
     "output_type": "execute_result"
    }
   ],
   "source": [
    "ds.tas.encoding['missing_value'] == ds.tas.encoding['_FillValue']"
   ]
  },
  {
   "cell_type": "code",
   "execution_count": 41,
   "metadata": {},
   "outputs": [],
   "source": [
    "ds.tas.isel(time=0).to_netcdf(\"/nethome/6272487/tas_000.nc\")"
   ]
  },
  {
   "cell_type": "code",
   "execution_count": 45,
   "metadata": {},
   "outputs": [],
   "source": [
    "# Load data\n",
    "root = '/data2/imau/users/jasper/ihesp'\n",
    "\n",
    "fname1 = root+'/hrmip/0.25deg/hist/tas/tas_Amon_CESM1-CAM5-SE-HR_hist-1950_r1i1p1f1_gn_195001-201412.nc'\n",
    "fname2 = root+'/hrmip/0.25deg/rcp8.5/tas/tas_Amon_CESM1-CAM5-SE-HR_highres-future_r1i1p1f1_gn_201501-205012.nc'\n",
    "#ds_hrmip_hr = xr.open_mfdataset([fname1,fname2], use_cftime=True, combine='by_coords')\n",
    "\n",
    "fname1 = root+'/hrmip/1deg/hist/tas/tas_Amon_CESM1-CAM5-SE-LR_hist-1950_r1i1p1f1_gn_195001-201412.nc'\n",
    "fname2 = root+'/hrmip/1deg/rcp8.5/tas/tas_Amon_CESM1-CAM5-SE-LR_highres-future_r1i1p1f1_gn_201501-205012.nc'\n",
    "#ds_hrmip_lr = xr.open_mfdataset([fname1,fname2], use_cftime=True, combine='by_coords')\n",
    "\n",
    "fname1 = root+'/transient/0.25deg/hist/trefht/*.nc'\n",
    "fname2 = root+'/transient/0.25deg/rcp8.5/trefht/*.nc'\n",
    "#ds_trans_hr_hist = xr.open_mfdataset(fname1, combine='by_coords', use_cftime=True)\n",
    "#ds_trans_hr_rcp = xr.open_mfdataset(fname2, combine='by_coords', use_cftime=True)\n",
    "\n",
    "area_hr = ds_trans_hr_hist.area.isel(time=0)\n",
    "area_lr = xr.open_dataset('/nethome/6272487/sai-git/sai/prep/data/ne30_g16.grid.nc').area"
   ]
  },
  {
   "cell_type": "code",
   "execution_count": 2,
   "metadata": {},
   "outputs": [
    {
     "name": "stderr",
     "output_type": "stream",
     "text": [
      "/usr/local/lib/python3.6/site-packages/xarray/conventions.py:494: SerializationWarning: variable 'tas' has multiple fill values {1e+20, 1e+20}, decoding all values to NaN.\n",
      "  use_cftime=use_cftime,\n",
      "/usr/local/lib/python3.6/site-packages/xarray/conventions.py:494: SerializationWarning: variable 'tas' has multiple fill values {1e+20, 1e+20}, decoding all values to NaN.\n",
      "  use_cftime=use_cftime,\n"
     ]
    }
   ],
   "source": [
    "ds_hrmip_hist = xr.open_dataset('/data2/imau/users/jasper/ihesp/hist/hrmip/tas_Amon_CESM1-CAM5-SE-HR_hist-1950_r1i1p1f1_gn_195001-201412.nc', use_cftime=True)\n",
    "ds_hrmip_hist = ds_hrmip_hist.groupby('time.year').mean('time')\n",
    "ds_hrmip_hist = ds_hrmip_hist.rename({'tas':'TREFHT'})\n",
    "\n",
    "ds_hrmip_fut = xr.open_dataset('/data2/imau/users/jasper/ihesp/hrmip/rcp8.5/tas_Amon_CESM1-CAM5-SE-HR_highres-future_r1i1p1f1_gn_201501-205012.nc', use_cftime=True)\n",
    "ds_hrmip_fut = ds_hrmip_fut.groupby('time.year').mean('time')\n",
    "ds_hrmip_fut = ds_hrmip_fut.rename({'tas':'TREFHT'})\n",
    "\n",
    "ds_hrmip_ext = xr.open_dataset('/data2/imau/users/jasper/ihesp/rcp8.5/hrmip/B.E.13.B1950TRC5.ne120_t12.cesm-ihesp-2051-2100.014.cam.h0.TREFHT.205101-210012.nc', use_cftime=True)\n",
    "ds_hrmip_ext = ds_hrmip_ext.groupby('time.year').mean('time')\n",
    "ds_hrmip_ext = ds_hrmip_ext.set_coords(('lat','lon'))\n",
    "\n",
    "Tref_hrmip = xr.concat((ds_hrmip_hist.TREFHT, ds_hrmip_fut.TREFHT, ds_hrmip_ext.TREFHT), dim='year')"
   ]
  },
  {
   "cell_type": "code",
   "execution_count": 51,
   "metadata": {},
   "outputs": [],
   "source": [
    "tasga_hrmip_hr = (ds_hrmip_hr.tas * (area_hr/area_hr.sum('ncol'))).sum('ncol').groupby(ds_hrmip_hr.time.dt.year).mean().compute()\n",
    "tasga_hrmip_lr = (ds_hrmip_lr.tas * (area_lr/area_lr.sum('ncol'))).sum('ncol').groupby(ds_hrmip_lr.time.dt.year).mean().compute()\n",
    "tasga_trans_hr_hist = (ds_trans_hr_hist.TREFHT * (area_hr/area_hr.sum('ncol'))).sum('ncol').groupby(ds_trans_hr_hist.time.dt.year).mean().compute()\n",
    "tasga_trans_hr_rcp = (ds_trans_hr_rcp.TREFHT * (area_hr/area_hr.sum('ncol'))).sum('ncol').groupby(ds_trans_hr_rcp.time.dt.year).mean().compute()"
   ]
  },
  {
   "cell_type": "code",
   "execution_count": 54,
   "metadata": {},
   "outputs": [],
   "source": [
    "tasga_trans_hr = xr.concat((tasga_trans_hr_hist, tasga_trans_hr_rcp), dim='year')\n",
    "tasga_trans_hr[tasga_trans_hr > 1e35] = np.nan\n",
    "tasga_trans_hr[150]"
   ]
  },
  {
   "cell_type": "code",
   "execution_count": 5,
   "metadata": {},
   "outputs": [],
   "source": [
    "ds_trans_hist = xr.open_mfdataset('/data2/imau/users/jasper/ihesp/hist/hr/mon/TREFHT/*.TREFHT.*.nc', combine='by_coords', use_cftime=True)\n",
    "ds_trans_hist = ds_trans_hist.groupby('time.year').mean('time')\n",
    "\n",
    "ds_trans_fut = xr.open_mfdataset('/data2/imau/users/jasper/ihesp/rcp8.5/hr/*.TREFHT.*.nc', combine='by_coords',use_cftime=True)\n",
    "ds_trans_fut = ds_trans_fut.groupby('time.year').mean('time')\n",
    "\n",
    "Tref_trans = xr.concat((ds_trans_hist.TREFHT, ds_trans_fut.TREFHT), dim='year')\n",
    "Tref_trans_gm = (Tref_trans * (ds_trans_hist.area.isel(year=0)/ds_trans_hist.area.isel(year=0).sum('ncol'))).sum('ncol').data\n",
    "Tref_trans_gm[Tref_trans_gm > 1e35] = np.nan"
   ]
  },
  {
   "cell_type": "code",
   "execution_count": 8,
   "metadata": {},
   "outputs": [],
   "source": [
    "Tref_trans_gm = Tref_trans_gm.compute()"
   ]
  },
  {
   "cell_type": "code",
   "execution_count": 14,
   "metadata": {},
   "outputs": [],
   "source": [
    "Tref_trans_gm[150] = np.nan "
   ]
  },
  {
   "cell_type": "code",
   "execution_count": 9,
   "metadata": {},
   "outputs": [],
   "source": [
    "Tref_hrmip_gm = Tref_hrmip_gm.compute()"
   ]
  },
  {
   "cell_type": "code",
   "execution_count": 18,
   "metadata": {},
   "outputs": [
    {
     "data": {
      "text/plain": [
       "Text(0, 0.5, 'Temperature (K)')"
      ]
     },
     "execution_count": 18,
     "metadata": {},
     "output_type": "execute_result"
    },
    {
     "data": {
      "image/png": "[encoded data removed]",
      "text/plain": [
       "<Figure size 432x288 with 1 Axes>"
      ]
     },
     "metadata": {
      "needs_background": "light"
     },
     "output_type": "display_data"
    }
   ],
   "source": [
    "plt.plot(Tref_hrmip_gm.year[:-1], Tref_hrmip_gm[:-1], label='hrmip transient')\n",
    "plt.plot(Tref_trans.year[:-1], Tref_trans_gm[:-1], label='pi transient')\n",
    "plt.legend()\n",
    "plt.title(\"GMST yearly mean\")\n",
    "plt.ylabel(\"Temperature (K)\")"
   ]
  },
  {
   "cell_type": "code",
   "execution_count": 107,
   "metadata": {},
   "outputs": [],
   "source": [
    "with open('/nethome/6272487/sai-git/sai/Tref/HadCRUT5.0Analysis_gl.txt') as f:\n",
    "    lines = f.readlines()\n",
    "year = [int(line.split(' ')[1]) for line in lines[::2]]\n",
    "anom = [float(line.split(' ')[-1].strip('\\n')) for line in lines[::2]]\n",
    "tobs = [x + 13.974 + 273.15 for x in anom]\n",
    "# for line in lines[::2]:\n",
    "#     print(line.split(' ')[1], line.split(' ')[-1].strip('/n'))\n"
   ]
  },
  {
   "cell_type": "code",
   "execution_count": 115,
   "metadata": {},
   "outputs": [
    {
     "data": {
      "text/plain": [
       "Text(0.5, 0, 'Year')"
      ]
     },
     "execution_count": 115,
     "metadata": {},
     "output_type": "execute_result"
    },
    {
     "data": {
      "image/png": "[encoded data removed]",
      "text/plain": [
       "<Figure size 432x288 with 1 Axes>"
      ]
     },
     "metadata": {
      "needs_background": "light"
     },
     "output_type": "display_data"
    }
   ],
   "source": [
    "plt.plot(tasga_trans_hr.year[:-1], tasga_trans_hr[:-1], label='pi transient hr')\n",
    "plt.plot(tasga_hrmip_hr.year, tasga_hrmip_hr, label='hrmip hr')\n",
    "plt.plot(tasga_hrmip_lr.year, tasga_hrmip_lr, label='hrmip lr')\n",
    "plt.plot(year, tobs, label='HadCRUT5', alpha=0.5)\n",
    "plt.legend()\n",
    "plt.grid()\n",
    "plt.title(\"GMST yearly mean\")\n",
    "plt.ylabel(\"T [K]\")\n",
    "plt.xlabel(\"Year\")"
   ]
  },
  {
   "cell_type": "code",
   "execution_count": 140,
   "metadata": {},
   "outputs": [
    {
     "data": {
      "text/plain": [
       "(array(286.89123304), array(287.10457898), array(288.21629812))"
      ]
     },
     "execution_count": 140,
     "metadata": {},
     "output_type": "execute_result"
    }
   ],
   "source": [
    "(tasga_trans_hr.sel(year=slice(1850,1899)).mean().data,\n",
    "tasga_trans_hr.sel(year=slice(1950,1979)).mean().data, \n",
    "tasga_trans_hr.sel(year=slice(2010,2029)).mean().data\n",
    ")"
   ]
  },
  {
   "cell_type": "code",
   "execution_count": 127,
   "metadata": {},
   "outputs": [
    {
     "name": "stderr",
     "output_type": "stream",
     "text": [
      "/usr/local/lib/python3.6/site-packages/xarray/core/nanops.py:140: RuntimeWarning: Mean of empty slice\n",
      "  return np.nanmean(a, axis=axis, dtype=dtype)\n"
     ]
    },
    {
     "data": {
      "text/plain": [
       "(array(nan), array(287.94265744), array(289.1748624))"
      ]
     },
     "execution_count": 127,
     "metadata": {},
     "output_type": "execute_result"
    }
   ],
   "source": [
    "(tasga_hrmip_hr.sel(year=slice(1850,1949)).mean().data,\n",
    "tasga_hrmip_hr.sel(year=slice(1950,1979)).mean().data, \n",
    "tasga_hrmip_hr.sel(year=slice(2010,2029)).mean().data\n",
    ")"
   ]
  },
  {
   "cell_type": "code",
   "execution_count": 128,
   "metadata": {},
   "outputs": [
    {
     "data": {
      "text/plain": [
       "(array(nan), array(286.40850495), array(287.46338189))"
      ]
     },
     "execution_count": 128,
     "metadata": {},
     "output_type": "execute_result"
    }
   ],
   "source": [
    "(tasga_hrmip_lr.sel(year=slice(1850,1949)).mean().data,\n",
    "tasga_hrmip_lr.sel(year=slice(1950,1979)).mean().data, \n",
    "tasga_hrmip_lr.sel(year=slice(2010,2029)).mean().data\n",
    ")"
   ]
  },
  {
   "cell_type": "code",
   "execution_count": 141,
   "metadata": {},
   "outputs": [
    {
     "data": {
      "text/plain": [
       "(286.76507999999995, 287.03326666666663, nan)"
      ]
     },
     "execution_count": 141,
     "metadata": {},
     "output_type": "execute_result"
    }
   ],
   "source": [
    "np.mean(tobs[0:50]), np.mean(tobs[100:130]), np.nan"
   ]
  },
  {
   "cell_type": "code",
   "execution_count": null,
   "metadata": {},
   "outputs": [],
   "source": []
  },
  {
   "cell_type": "code",
   "execution_count": null,
   "metadata": {},
   "outputs": [],
   "source": []
  }
 ],
 "metadata": {
  "kernelspec": {
   "display_name": "Python 3 (ipykernel)",
   "language": "python",
   "name": "python3"
  },
  "language_info": {
   "codemirror_mode": {
    "name": "ipython",
    "version": 3
   },
   "file_extension": ".py",
   "mimetype": "text/x-python",
   "name": "python",
   "nbconvert_exporter": "python",
   "pygments_lexer": "ipython3",
   "version": "3.11.9"
  }
 },
 "nbformat": 4,
 "nbformat_minor": 4
}
